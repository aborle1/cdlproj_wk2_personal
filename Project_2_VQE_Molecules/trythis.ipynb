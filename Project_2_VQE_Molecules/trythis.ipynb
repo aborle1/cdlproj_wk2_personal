{
 "cells": [
  {
   "cell_type": "code",
   "execution_count": 3,
   "metadata": {},
   "outputs": [],
   "source": [
    "import tequila as tq\n",
    "from utility import *\n",
    "import copy\n",
    "P_X = np.array([[0, 1], [1, 0]])\n",
    "P_Y = np.array([[0, 0 -1j],[0+1j,0]])\n",
    "P_Z = np.array([[1, 0], [0, -1]])"
   ]
  },
  {
   "cell_type": "code",
   "execution_count": 4,
   "metadata": {},
   "outputs": [],
   "source": [
    "def str2mat(hamiltonian_string,n_qubits):\n",
    "    total_hamiltonian = None  #stores the total hamiltonian\n",
    "    first_flag = True\n",
    "    \n",
    "    for line in hamiltonian_string.splitlines():\n",
    "        temp_hamiltonian = None #stores the temporary hamiltonian\n",
    "        matrix_operand = None\n",
    "        var_start = line.find('[')\n",
    "        var_end = line.find(']')\n",
    "        coeff = float(line[0:var_start]) #coefficients for individual parts\n",
    "        temp_ham_set = line[var_start+1:var_end].split() #variables for individual parts\n",
    "        \n",
    "        indiv_ham_set = ['I' for i in range(0,n_qubits)] #this decides what operator affects which qubit, initialize to identity\n",
    "        \n",
    "        if len(temp_ham_set)!=0:\n",
    "            for operator in temp_ham_set:\n",
    "                q_index = int(operator[1:len(str(n_qubits))+1]) #Find out which qubit it acts on\n",
    "                if operator[0]=='X':\n",
    "                    indiv_ham_set[q_index] = 'P_X'\n",
    "                elif operator[0]=='Y':\n",
    "                    indiv_ham_set[q_index] = 'P_Y'\n",
    "                elif operator[0]=='Z':\n",
    "                    indiv_ham_set[q_index] = 'P_Z'\n",
    "        print(temp_ham_set)\n",
    "        print(indiv_ham_set)\n",
    "        \n",
    "        for i in range(0,n_qubits-1):\n",
    "            if i== 0:\n",
    "                #reinitialize temp_hamiltonian from first qubit\n",
    "                if indiv_ham_set[i] == 'I':\n",
    "                    temp_hamiltonian = copy.deepcopy(np.eye(2))\n",
    "                elif indiv_ham_set[i] == 'P_X':\n",
    "                    temp_hamiltonian = copy.deepcopy(P_X)\n",
    "                elif indiv_ham_set[i] == 'P_Y':\n",
    "                    temp_hamiltonian = copy.deepcopy(P_Y)\n",
    "                elif indiv_ham_set[i] == 'P_Z':\n",
    "                    temp_hamiltonian = copy.deepcopy(P_Z)\n",
    "            #now for the operand to which the temp_hamiltonian will be kroneckered\n",
    "            if indiv_ham_set[i+1] == 'I':\n",
    "                matrix_operand = copy.deepcopy(np.eye(2))\n",
    "            elif indiv_ham_set[i+1] == 'P_X':\n",
    "                matrix_operand = copy.deepcopy(P_X)\n",
    "            elif indiv_ham_set[i+1] == 'P_Y':\n",
    "                matrix_operand = copy.deepcopy(P_Y)\n",
    "            elif indiv_ham_set[i+1] == 'P_Z':\n",
    "                matrix_operand = copy.deepcopy(P_Z)\n",
    "                \n",
    "            #Kronecker together\n",
    "            temp_hamiltonian = np.kron(temp_hamiltonian,matrix_operand)\n",
    "        \n",
    "        #print(coeff*temp_hamiltonian)\n",
    "        #print(temp_hamiltonian.shape)\n",
    "        #print(temp_hamiltonian[0,:])\n",
    "        #print(np.count_nonzero(temp_hamiltonian[0,:]))\n",
    "        if first_flag == True:\n",
    "            temp_hamiltonian = coeff*temp_hamiltonian\n",
    "            total_hamiltonian = copy.deepcopy(temp_hamiltonian)\n",
    "            first_flag = False\n",
    "            #print(total_hamiltonian)\n",
    "        else:\n",
    "            total_hamiltonian = total_hamiltonian + coeff*temp_hamiltonian\n",
    "    print(total_hamiltonian)"
   ]
  },
  {
   "cell_type": "code",
   "execution_count": 5,
   "metadata": {},
   "outputs": [
    {
     "name": "stdout",
     "output_type": "stream",
     "text": [
      "-0.32760818967480887 [] +\n",
      "-0.04919764587136755 [X0 X1 Y2 Y3] +\n",
      "0.04919764587136755 [X0 Y1 Y2 X3] +\n",
      "0.04919764587136755 [Y0 X1 X2 Y3] +\n",
      "-0.04919764587136755 [Y0 Y1 X2 X3] +\n",
      "0.13716572937099497 [Z0] +\n",
      "0.15660062488237947 [Z0 Z1] +\n",
      "0.10622904490856075 [Z0 Z2] +\n",
      "0.15542669077992832 [Z0 Z3] +\n",
      "0.13716572937099492 [Z1] +\n",
      "0.15542669077992832 [Z1 Z2] +\n",
      "0.10622904490856075 [Z1 Z3] +\n",
      "-0.13036292057109117 [Z2] +\n",
      "0.16326768673564346 [Z2 Z3] +\n",
      "-0.13036292057109117 [Z3]\n"
     ]
    }
   ],
   "source": [
    "qubit_transf = 'jw' # Jordan-Wigner transformations\n",
    "h2 = get_qubit_hamiltonian(mol='h2', geometry=1, basis='sto3g', qubit_transf=qubit_transf)\n",
    "print(h2)\n",
    "\n",
    "\n",
    "#Get additional information from tequila\n",
    "xyz_data = get_molecular_data('h2', geometry=2.5, xyz_format=True)\n",
    "basis='sto-3g'\n",
    "h2_tq = tq.quantumchemistry.Molecule(geometry=xyz_data, basis_set=basis)\n"
   ]
  },
  {
   "cell_type": "code",
   "execution_count": 6,
   "metadata": {},
   "outputs": [
    {
     "name": "stdout",
     "output_type": "stream",
     "text": [
      "The effective Hamiltonian:\n",
      " -0.5310513494337641 [] +\n",
      "0.1967905834854702 [X0] +\n",
      "-0.5350572998841723 [Z0]\n"
     ]
    }
   ],
   "source": [
    "print(\"The effective Hamiltonian:\\n {}\".format(taper_hamiltonian(h2, n_spin_orbitals=2*h2_tq.n_orbitals, n_electrons=h2_tq.n_electrons, qubit_transf=qubit_transf))) "
   ]
  },
  {
   "cell_type": "code",
   "execution_count": 8,
   "metadata": {},
   "outputs": [],
   "source": [
    "h2_small_str = format(taper_hamiltonian(h2, n_spin_orbitals=2*h2_tq.n_orbitals, n_electrons=h2_tq.n_electrons, qubit_transf=qubit_transf))"
   ]
  },
  {
   "cell_type": "code",
   "execution_count": null,
   "metadata": {},
   "outputs": [],
   "source": []
  }
 ],
 "metadata": {
  "kernelspec": {
   "display_name": "newtq37",
   "language": "python",
   "name": "newtq37"
  },
  "language_info": {
   "codemirror_mode": {
    "name": "ipython",
    "version": 3
   },
   "file_extension": ".py",
   "mimetype": "text/x-python",
   "name": "python",
   "nbconvert_exporter": "python",
   "pygments_lexer": "ipython3",
   "version": "3.7.1"
  }
 },
 "nbformat": 4,
 "nbformat_minor": 4
}
