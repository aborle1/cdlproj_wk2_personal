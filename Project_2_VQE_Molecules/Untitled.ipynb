{
 "cells": [
  {
   "cell_type": "code",
   "execution_count": 2,
   "metadata": {},
   "outputs": [
    {
     "name": "stdout",
     "output_type": "stream",
     "text": [
      "Fragments 1: \n",
      "0.13716572937099494 [Z0] +\n",
      "0.15660062488237958 [Z0 Z1] +\n",
      "0.10622904490856085 [Z0 Z2] +\n",
      "0.15542669077992843 [Z0 Z3] +\n",
      "0.13716572937099494 [Z1] +\n",
      "0.15542669077992843 [Z1 Z2] +\n",
      "0.10622904490856085 [Z1 Z3] +\n",
      "-0.1303629205710914 [Z2] +\n",
      "0.1632676867356435 [Z2 Z3] +\n",
      "-0.13036292057109133 [Z3]\n",
      "\n",
      "Fragments 2:\n",
      "-0.04919764587136759 [X0 X1 Y2 Y3]\n",
      "\n",
      "Number of fragments: 5\n",
      "-0.04919764587136759 [Y0 Y1 X2 X3]\n",
      "0.04919764587136759 [Y0 X1 X2 Y3]\n",
      "-0.3276081896748089 [] +\n",
      "0.04919764587136759 [X0 Y1 Y2 X3]\n"
     ]
    }
   ],
   "source": [
    "from utility import * \n",
    "\n",
    "h2 = get_qubit_hamiltonian(mol='h2', geometry=1, basis='sto3g', qubit_transf='jw')\n",
    "\n",
    "qwc_list = get_qwc_group(h2)\n",
    "print('Fragments 1: \\n{}\\n'.format(qwc_list[4]))\n",
    "print('Fragments 2:\\n{}\\n'.format(qwc_list[1]))\n",
    "print('Number of fragments: {}'.format(len(qwc_list)))\n",
    "print(qwc_list[2])\n",
    "print(qwc_list[3])\n",
    "print(qwc_list[0])"
   ]
  },
  {
   "cell_type": "code",
   "execution_count": 2,
   "metadata": {},
   "outputs": [
    {
     "name": "stdout",
     "output_type": "stream",
     "text": [
      "Number of mutually commuting fragments: 2\n",
      "The first commuting group\n",
      "-0.3276081896748089 [] +\n",
      "-0.04919764587136759 [X0 X1 Y2 Y3] +\n",
      "0.04919764587136759 [X0 Y1 Y2 X3] +\n",
      "0.04919764587136759 [Y0 X1 X2 Y3] +\n",
      "-0.04919764587136759 [Y0 Y1 X2 X3] +\n",
      "0.15660062488237958 [Z0 Z1] +\n",
      "0.10622904490856085 [Z0 Z2] +\n",
      "0.15542669077992843 [Z0 Z3] +\n",
      "0.15542669077992843 [Z1 Z2] +\n",
      "0.10622904490856085 [Z1 Z3] +\n",
      "0.1632676867356435 [Z2 Z3]\n",
      "---\n",
      "0.13716572937099494 [Z0] +\n",
      "0.13716572937099494 [Z1] +\n",
      "-0.1303629205710914 [Z2] +\n",
      "-0.13036292057109133 [Z3]\n"
     ]
    }
   ],
   "source": [
    "comm_groups = get_commuting_group(h2)\n",
    "print('Number of mutually commuting fragments: {}'.format(len(comm_groups)))\n",
    "print('The first commuting group')\n",
    "print(comm_groups[1])\n",
    "print(\"---\")\n",
    "print(comm_groups[2])"
   ]
  },
  {
   "cell_type": "code",
   "execution_count": 4,
   "metadata": {},
   "outputs": [
    {
     "name": "stdout",
     "output_type": "stream",
     "text": [
      "-0.3276081896748089 [] +\n",
      "0.04919764587136759 [X0 Z1 X2] +\n",
      "0.04919764587136759 [X0 Z1 X2 Z3] +\n",
      "0.04919764587136759 [Y0 Z1 Y2] +\n",
      "0.04919764587136759 [Y0 Z1 Y2 Z3] +\n",
      "0.13716572937099494 [Z0] +\n",
      "0.13716572937099494 [Z0 Z1] +\n",
      "0.15542669077992843 [Z0 Z1 Z2] +\n",
      "0.15542669077992843 [Z0 Z1 Z2 Z3] +\n",
      "0.10622904490856085 [Z0 Z2] +\n",
      "0.10622904490856085 [Z0 Z2 Z3] +\n",
      "0.15660062488237958 [Z1] +\n",
      "-0.13036292057109133 [Z1 Z2 Z3] +\n",
      "0.1632676867356435 [Z1 Z3] +\n",
      "-0.1303629205710914 [Z2]\n"
     ]
    }
   ],
   "source": [
    "h2 = get_qubit_hamiltonian(mol='h2', geometry=1, basis='sto3g', qubit_transf='bk')\n",
    "print(h2)"
   ]
  },
  {
   "cell_type": "code",
   "execution_count": 5,
   "metadata": {},
   "outputs": [],
   "source": [
    "comm_groups = get_commuting_group(h2)"
   ]
  },
  {
   "cell_type": "code",
   "execution_count": 6,
   "metadata": {},
   "outputs": [
    {
     "name": "stdout",
     "output_type": "stream",
     "text": [
      "{1: -0.3276081896748089 [] +\n",
      "0.04919764587136759 [X0 Z1 X2] +\n",
      "0.04919764587136759 [X0 Z1 X2 Z3] +\n",
      "0.04919764587136759 [Y0 Z1 Y2] +\n",
      "0.04919764587136759 [Y0 Z1 Y2 Z3] +\n",
      "0.15542669077992843 [Z0 Z1 Z2] +\n",
      "0.15542669077992843 [Z0 Z1 Z2 Z3] +\n",
      "0.10622904490856085 [Z0 Z2] +\n",
      "0.10622904490856085 [Z0 Z2 Z3] +\n",
      "0.15660062488237958 [Z1] +\n",
      "0.1632676867356435 [Z1 Z3], 2: 0.13716572937099494 [Z0] +\n",
      "0.13716572937099494 [Z0 Z1] +\n",
      "-0.13036292057109133 [Z1 Z2 Z3] +\n",
      "-0.1303629205710914 [Z2]}\n"
     ]
    }
   ],
   "source": [
    "print(comm_groups)"
   ]
  },
  {
   "cell_type": "code",
   "execution_count": 7,
   "metadata": {},
   "outputs": [
    {
     "name": "stdout",
     "output_type": "stream",
     "text": [
      "This is unitary, U * U^+ = I \n",
      "(0.9999999999999996+0j) []\n"
     ]
    }
   ],
   "source": [
    "uqwc = get_qwc_unitary(comm_groups[1])\n",
    "print('This is unitary, U * U^+ = I ')\n",
    "print(uqwc * uqwc)"
   ]
  },
  {
   "cell_type": "code",
   "execution_count": 8,
   "metadata": {},
   "outputs": [
    {
     "name": "stdout",
     "output_type": "stream",
     "text": [
      "-0.32760818967480876 [] +\n",
      "0.10622904490856076 [X0] +\n",
      "0.15542669077992827 [X0 X1] +\n",
      "-0.04919764587136755 [X0 X1 Z2] +\n",
      "-0.04919764587136755 [X0 X1 Z2 X3] +\n",
      "0.15542669077992827 [X0 X1 X3] +\n",
      "0.10622904490856076 [X0 X3] +\n",
      "0.15660062488237952 [X1] +\n",
      "0.04919764587136755 [X1 Z2] +\n",
      "0.04919764587136755 [X1 Z2 X3] +\n",
      "0.16326768673564335 [X1 X3]\n"
     ]
    }
   ],
   "source": [
    "qwc = remove_complex(uqwc * comm_groups[1] * uqwc)\n",
    "print(qwc)"
   ]
  },
  {
   "cell_type": "code",
   "execution_count": 9,
   "metadata": {},
   "outputs": [
    {
     "name": "stdout",
     "output_type": "stream",
     "text": [
      "Checking whether U * U^+ is identity: 0.9999999999999998 []\n",
      "\n",
      "The all-z form of qwc fragment:\n",
      "-0.3276081896748086 [] +\n",
      "0.1062290449085607 [Z0] +\n",
      "0.15542669077992818 [Z0 Z1] +\n",
      "-0.04919764587136754 [Z0 Z1 Z2] +\n",
      "-0.04919764587136754 [Z0 Z1 Z2 Z3] +\n",
      "0.15542669077992818 [Z0 Z1 Z3] +\n",
      "0.1062290449085607 [Z0 Z3] +\n",
      "0.15660062488237944 [Z1] +\n",
      "0.04919764587136754 [Z1 Z2] +\n",
      "0.04919764587136754 [Z1 Z2 Z3] +\n",
      "0.16326768673564326 [Z1 Z3]\n"
     ]
    }
   ],
   "source": [
    "uz = get_zform_unitary(qwc)\n",
    "print(\"Checking whether U * U^+ is identity: {}\".format(uz * uz))\n",
    "\n",
    "allz = remove_complex(uz * qwc * uz)\n",
    "print(\"\\nThe all-z form of qwc fragment:\\n{}\".format(allz))"
   ]
  },
  {
   "cell_type": "code",
   "execution_count": 10,
   "metadata": {},
   "outputs": [
    {
     "name": "stdout",
     "output_type": "stream",
     "text": [
      "This is unitary, U * U^+ = I \n",
      "0.9999999999999996 []\n"
     ]
    }
   ],
   "source": [
    "uqwc2 = get_qwc_unitary(comm_groups[2])\n",
    "print('This is unitary, U * U^+ = I ')\n",
    "print(uqwc2 * uqwc2)"
   ]
  },
  {
   "cell_type": "code",
   "execution_count": 11,
   "metadata": {},
   "outputs": [
    {
     "name": "stdout",
     "output_type": "stream",
     "text": [
      "0.13716572937099486 [X0] +\n",
      "0.13716572937099486 [X0 X1] +\n",
      "-0.13036292057109122 [X1 X2 X3] +\n",
      "-0.13036292057109125 [X2]\n"
     ]
    }
   ],
   "source": [
    "qwc2 = remove_complex(uqwc2 * comm_groups[2] * uqwc2)\n",
    "print(qwc2)"
   ]
  },
  {
   "cell_type": "code",
   "execution_count": 12,
   "metadata": {},
   "outputs": [
    {
     "name": "stdout",
     "output_type": "stream",
     "text": [
      "Checking whether U * U^+ is identity: 0.9999999999999996 []\n",
      "\n",
      "The all-z form of qwc fragment:\n",
      "0.13716572937099472 [Z0] +\n",
      "0.13716572937099472 [Z0 Z1] +\n",
      "-0.13036292057109117 [Z1 Z2 Z3] +\n",
      "-0.13036292057109117 [Z2]\n"
     ]
    }
   ],
   "source": [
    "uz2 = get_zform_unitary(qwc2)\n",
    "print(\"Checking whether U * U^+ is identity: {}\".format(uz2 * uz2))\n",
    "\n",
    "allz2 = remove_complex(uz2 * qwc2 * uz2)\n",
    "print(\"\\nThe all-z form of qwc fragment:\\n{}\".format(allz2))"
   ]
  },
  {
   "cell_type": "code",
   "execution_count": 13,
   "metadata": {},
   "outputs": [],
   "source": [
    "import tequila as tq\n",
    "from utility import *\n",
    "import copy\n",
    "P_X = np.array([[0, 1], [1, 0]])\n",
    "P_Y = np.array([[0, 0 -1j],[0+1j,0]])\n",
    "P_Z = np.array([[1, 0], [0, -1]])\n",
    "\n",
    "def str2mat(hamiltonian_string,n_qubits):\n",
    "    total_hamiltonian = None  #stores the total hamiltonian\n",
    "    first_flag = True\n",
    "    \n",
    "    for line in hamiltonian_string.splitlines():\n",
    "        temp_hamiltonian = None #stores the temporary hamiltonian\n",
    "        matrix_operand = None\n",
    "        var_start = line.find('[')\n",
    "        var_end = line.find(']')\n",
    "        coeff = float(line[0:var_start]) #coefficients for individual parts\n",
    "        temp_ham_set = line[var_start+1:var_end].split() #variables for individual parts\n",
    "        \n",
    "        indiv_ham_set = ['I' for i in range(0,n_qubits)] #this decides what operator affects which qubit, initialize to identity\n",
    "        \n",
    "        if len(temp_ham_set)!=0:\n",
    "            for operator in temp_ham_set:\n",
    "                q_index = int(operator[1:len(str(n_qubits))+1]) #Find out which qubit it acts on\n",
    "                if operator[0]=='X':\n",
    "                    indiv_ham_set[q_index] = 'P_X'\n",
    "                elif operator[0]=='Y':\n",
    "                    indiv_ham_set[q_index] = 'P_Y'\n",
    "                elif operator[0]=='Z':\n",
    "                    indiv_ham_set[q_index] = 'P_Z'\n",
    "        #print(temp_ham_set)\n",
    "        #print(indiv_ham_set)\n",
    "        \n",
    "        for i in range(0,n_qubits-1):\n",
    "            if i== 0:\n",
    "                #reinitialize temp_hamiltonian from first qubit\n",
    "                if indiv_ham_set[i] == 'I':\n",
    "                    temp_hamiltonian = copy.deepcopy(np.eye(2))\n",
    "                elif indiv_ham_set[i] == 'P_X':\n",
    "                    temp_hamiltonian = copy.deepcopy(P_X)\n",
    "                elif indiv_ham_set[i] == 'P_Y':\n",
    "                    temp_hamiltonian = copy.deepcopy(P_Y)\n",
    "                elif indiv_ham_set[i] == 'P_Z':\n",
    "                    temp_hamiltonian = copy.deepcopy(P_Z)\n",
    "            #now for the operand to which the temp_hamiltonian will be kroneckered\n",
    "            if indiv_ham_set[i+1] == 'I':\n",
    "                matrix_operand = copy.deepcopy(np.eye(2))\n",
    "            elif indiv_ham_set[i+1] == 'P_X':\n",
    "                matrix_operand = copy.deepcopy(P_X)\n",
    "            elif indiv_ham_set[i+1] == 'P_Y':\n",
    "                matrix_operand = copy.deepcopy(P_Y)\n",
    "            elif indiv_ham_set[i+1] == 'P_Z':\n",
    "                matrix_operand = copy.deepcopy(P_Z)\n",
    "                \n",
    "            #Kronecker together\n",
    "            temp_hamiltonian = np.kron(temp_hamiltonian,matrix_operand)\n",
    "\n",
    "        if first_flag == True:\n",
    "            temp_hamiltonian = coeff*temp_hamiltonian\n",
    "            total_hamiltonian = copy.deepcopy(temp_hamiltonian)\n",
    "            first_flag = False\n",
    "            #print(total_hamiltonian)\n",
    "        else:\n",
    "            total_hamiltonian = total_hamiltonian + coeff*temp_hamiltonian\n",
    "    \n",
    "    return total_hamiltonian"
   ]
  },
  {
   "cell_type": "code",
   "execution_count": 14,
   "metadata": {},
   "outputs": [
    {
     "name": "stdout",
     "output_type": "stream",
     "text": [
      "\n",
      "The eigenvalues in the effective Hamiltonian: \n",
      " [-5.35057300e-01 -2.74331459e-01 -2.74331459e-01 -2.60725841e-01\n",
      " -2.60725841e-01 -1.36056176e-02 -5.55111512e-17 -5.55111512e-17\n",
      "  5.55111512e-17  5.55111512e-17  1.36056176e-02  2.60725841e-01\n",
      "  2.60725841e-01  2.74331459e-01  2.74331459e-01  5.35057300e-01]\n",
      "The best one (ground state) is : -0.5350572998841726\n"
     ]
    }
   ],
   "source": [
    "ham1 = str2mat(format(comm_groups[2]),4)\n",
    "\n",
    "eigvals, _ = np.linalg.eigh(ham1)\n",
    "print(\"\\nThe eigenvalues in the effective Hamiltonian: \\n {}\".format(eigvals))\n",
    "\n",
    "print(\"The best one (ground state) is :\",eigvals[0])"
   ]
  },
  {
   "cell_type": "code",
   "execution_count": 15,
   "metadata": {},
   "outputs": [
    {
     "name": "stdout",
     "output_type": "stream",
     "text": [
      "\n",
      "The eigenvalues in the effective Hamiltonian: \n",
      " [-0.74587179 -0.74587179 -0.74587179 -0.72784193 -0.35229063 -0.33427525\n",
      " -0.33427525 -0.33427525 -0.33427525 -0.33426077 -0.32094113 -0.32094113\n",
      " -0.32094113 -0.32094113  0.51557159  0.51557159]\n",
      "The best one (ground state) is : -0.7458717930355672\n"
     ]
    }
   ],
   "source": [
    "ham1 = str2mat(format(comm_groups[1]),4)\n",
    "\n",
    "eigvals, _ = np.linalg.eigh(ham1)\n",
    "print(\"\\nThe eigenvalues in the effective Hamiltonian: \\n {}\".format(eigvals))\n",
    "\n",
    "print(\"The best one (ground state) is :\",eigvals[0])"
   ]
  },
  {
   "cell_type": "code",
   "execution_count": 18,
   "metadata": {},
   "outputs": [
    {
     "data": {
      "text/plain": [
       "0.17999999999999994"
      ]
     },
     "execution_count": 18,
     "metadata": {},
     "output_type": "execute_result"
    }
   ],
   "source": []
  },
  {
   "cell_type": "code",
   "execution_count": null,
   "metadata": {},
   "outputs": [],
   "source": []
  }
 ],
 "metadata": {
  "kernelspec": {
   "display_name": "newtq37",
   "language": "python",
   "name": "newtq37"
  },
  "language_info": {
   "codemirror_mode": {
    "name": "ipython",
    "version": 3
   },
   "file_extension": ".py",
   "mimetype": "text/x-python",
   "name": "python",
   "nbconvert_exporter": "python",
   "pygments_lexer": "ipython3",
   "version": "3.7.1"
  }
 },
 "nbformat": 4,
 "nbformat_minor": 4
}
