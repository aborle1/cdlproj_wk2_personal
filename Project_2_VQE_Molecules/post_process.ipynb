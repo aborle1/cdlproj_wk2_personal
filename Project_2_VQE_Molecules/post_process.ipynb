{
 "cells": [
  {
   "cell_type": "code",
   "execution_count": 83,
   "metadata": {},
   "outputs": [
    {
     "name": "stdout",
     "output_type": "stream",
     "text": [
      "The total energy is:  -0.7278419329192338\n"
     ]
    }
   ],
   "source": [
    "#(Requires D-wave's Ocean SDK)\n",
    "import neal\n",
    "import dimod\n",
    "import numpy as np\n",
    "sampler = dimod.HigherOrderComposite(neal.SimulatedAnnealingSampler())\n",
    "\n",
    "h = {0:0.15542669077992818, 1: 0.1062290449085607, 2: 0.16326768673564326 }\n",
    "J = {(0,1):0.15660062488237944, (0,2): 0.1062290449085607, (0,3): -0.04919764587136754,\n",
    "    (1,2):0.15542669077992818, (2,3):0.04919764587136754,\n",
    "    (0,1,3):0.04919764587136754, (1,2,3):-0.04919764587136754}\n",
    "offset = -0.3276081896748086\n",
    "\n",
    "hJ = {**h,**J}\n",
    "sampleset = sampler.sample_hising(h, J, discard_unsatisfied=True)\n",
    "sample_energy = sampleset.record[0][1]\n",
    "total_energy = sample_energy  + offset\n",
    "print(\"The total energy is: \",total_energy)\n"
   ]
  },
  {
   "cell_type": "code",
   "execution_count": 82,
   "metadata": {},
   "outputs": [
    {
     "ename": "TypeError",
     "evalue": "sample() got an unexpected keyword argument 'beta_range'",
     "output_type": "error",
     "traceback": [
      "\u001b[0;31m---------------------------------------------------------------------------\u001b[0m",
      "\u001b[0;31mTypeError\u001b[0m                                 Traceback (most recent call last)",
      "\u001b[0;32m<ipython-input-82-c11274015b35>\u001b[0m in \u001b[0;36m<module>\u001b[0;34m\u001b[0m\n\u001b[1;32m      1\u001b[0m \u001b[0msampler\u001b[0m \u001b[0;34m=\u001b[0m \u001b[0mdimod\u001b[0m\u001b[0;34m.\u001b[0m\u001b[0mHigherOrderComposite\u001b[0m\u001b[0;34m(\u001b[0m\u001b[0mdimod\u001b[0m\u001b[0;34m.\u001b[0m\u001b[0mExactSolver\u001b[0m\u001b[0;34m(\u001b[0m\u001b[0;34m)\u001b[0m\u001b[0;34m)\u001b[0m\u001b[0;34m\u001b[0m\u001b[0;34m\u001b[0m\u001b[0m\n\u001b[0;32m----> 2\u001b[0;31m \u001b[0msampleset\u001b[0m \u001b[0;34m=\u001b[0m \u001b[0msampler\u001b[0m\u001b[0;34m.\u001b[0m\u001b[0msample_hising\u001b[0m\u001b[0;34m(\u001b[0m\u001b[0mh\u001b[0m\u001b[0;34m,\u001b[0m \u001b[0mJ\u001b[0m\u001b[0;34m,\u001b[0m \u001b[0mdiscard_unsatisfied\u001b[0m\u001b[0;34m=\u001b[0m\u001b[0;32mTrue\u001b[0m\u001b[0;34m,\u001b[0m\u001b[0mbeta_range\u001b[0m\u001b[0;34m=\u001b[0m\u001b[0;34m[\u001b[0m\u001b[0;36m4.2\u001b[0m\u001b[0;34m,\u001b[0m \u001b[0;36m4.2\u001b[0m\u001b[0;34m]\u001b[0m\u001b[0;34m)\u001b[0m\u001b[0;34m\u001b[0m\u001b[0;34m\u001b[0m\u001b[0m\n\u001b[0m\u001b[1;32m      3\u001b[0m \u001b[0mprint\u001b[0m\u001b[0;34m(\u001b[0m\u001b[0msampleset\u001b[0m\u001b[0;34m)\u001b[0m\u001b[0;34m\u001b[0m\u001b[0;34m\u001b[0m\u001b[0m\n",
      "\u001b[0;32m~/anaconda3/envs/quantchem/lib/python3.7/site-packages/dimod/core/polysampler.py\u001b[0m in \u001b[0;36msample_hising\u001b[0;34m(self, h, J, **kwargs)\u001b[0m\n\u001b[1;32m     81\u001b[0m \u001b[0;34m\u001b[0m\u001b[0m\n\u001b[1;32m     82\u001b[0m         \"\"\"\n\u001b[0;32m---> 83\u001b[0;31m         \u001b[0;32mreturn\u001b[0m \u001b[0mself\u001b[0m\u001b[0;34m.\u001b[0m\u001b[0msample_poly\u001b[0m\u001b[0;34m(\u001b[0m\u001b[0mBinaryPolynomial\u001b[0m\u001b[0;34m.\u001b[0m\u001b[0mfrom_hising\u001b[0m\u001b[0;34m(\u001b[0m\u001b[0mh\u001b[0m\u001b[0;34m,\u001b[0m \u001b[0mJ\u001b[0m\u001b[0;34m)\u001b[0m\u001b[0;34m,\u001b[0m \u001b[0;34m**\u001b[0m\u001b[0mkwargs\u001b[0m\u001b[0;34m)\u001b[0m\u001b[0;34m\u001b[0m\u001b[0;34m\u001b[0m\u001b[0m\n\u001b[0m\u001b[1;32m     84\u001b[0m \u001b[0;34m\u001b[0m\u001b[0m\n\u001b[1;32m     85\u001b[0m     \u001b[0;32mdef\u001b[0m \u001b[0msample_hubo\u001b[0m\u001b[0;34m(\u001b[0m\u001b[0mself\u001b[0m\u001b[0;34m,\u001b[0m \u001b[0mH\u001b[0m\u001b[0;34m,\u001b[0m \u001b[0;34m**\u001b[0m\u001b[0mkwargs\u001b[0m\u001b[0;34m)\u001b[0m\u001b[0;34m:\u001b[0m\u001b[0;34m\u001b[0m\u001b[0;34m\u001b[0m\u001b[0m\n",
      "\u001b[0;32m~/anaconda3/envs/quantchem/lib/python3.7/site-packages/dimod/reference/composites/higherordercomposites.py\u001b[0m in \u001b[0;36msample_poly\u001b[0;34m(self, poly, penalty_strength, keep_penalty_variables, discard_unsatisfied, **parameters)\u001b[0m\n\u001b[1;32m    141\u001b[0m             \u001b[0mparameters\u001b[0m\u001b[0;34m[\u001b[0m\u001b[0;34m'initial_state'\u001b[0m\u001b[0;34m]\u001b[0m \u001b[0;34m=\u001b[0m \u001b[0minitial_state\u001b[0m\u001b[0;34m\u001b[0m\u001b[0;34m\u001b[0m\u001b[0m\n\u001b[1;32m    142\u001b[0m \u001b[0;34m\u001b[0m\u001b[0m\n\u001b[0;32m--> 143\u001b[0;31m         \u001b[0mresponse\u001b[0m \u001b[0;34m=\u001b[0m \u001b[0mself\u001b[0m\u001b[0;34m.\u001b[0m\u001b[0mchild\u001b[0m\u001b[0;34m.\u001b[0m\u001b[0msample\u001b[0m\u001b[0;34m(\u001b[0m\u001b[0mbqm\u001b[0m\u001b[0;34m,\u001b[0m \u001b[0;34m**\u001b[0m\u001b[0mparameters\u001b[0m\u001b[0;34m)\u001b[0m\u001b[0;34m\u001b[0m\u001b[0;34m\u001b[0m\u001b[0m\n\u001b[0m\u001b[1;32m    144\u001b[0m \u001b[0;34m\u001b[0m\u001b[0m\n\u001b[1;32m    145\u001b[0m         return polymorph_response(response, poly, bqm,\n",
      "\u001b[0;31mTypeError\u001b[0m: sample() got an unexpected keyword argument 'beta_range'"
     ]
    }
   ],
   "source": [
    "sampler = dimod.HigherOrderComposite(dimod.ExactSolver())\n",
    "sampleset = sampler.sample_hising(h, J, discard_unsatisfied=True)\n",
    "print(sampleset)"
   ]
  },
  {
   "cell_type": "code",
   "execution_count": 81,
   "metadata": {},
   "outputs": [
    {
     "name": "stdout",
     "output_type": "stream",
     "text": [
      "   0  1  2  3    energy num_oc. penalt.\n",
      "1 +1 -1 -1 +1 -0.418264       1    True\n",
      "2 +1 -1 -1 +1 -0.418264       1    True\n",
      "3 +1 -1 -1 +1 -0.418264       1    True\n",
      "0 -1 +1 -1 -1 -0.418264       1    True\n",
      "['SPIN', 4 rows, 4 samples, 4 variables]\n"
     ]
    }
   ],
   "source": [
    "sampler = dimod.HigherOrderComposite(neal.SimulatedAnnealingSampler())\n",
    "sampler.parameters['num_reads'] = 4\n",
    "\n",
    "sampleset = sampler.sample_hising(h, J, discard_unsatisfied=True, num_reads=4,initial_state={0:-1,1:-1,2:-1,3:-1},beta_range=[4.2, 4.2])\n",
    "print(sampleset)"
   ]
  },
  {
   "cell_type": "code",
   "execution_count": 145,
   "metadata": {},
   "outputs": [
    {
     "name": "stdout",
     "output_type": "stream",
     "text": [
      "#####\n",
      "Default beta_range\n",
      "   0  1  2  3  4  5  6  7  8  9 10 11     energy num_oc. penalt.\n",
      "0 +1 +1 -1 +1 +1 +1 +1 -1 -1 -1 +1 -1 -12.541803       1       0\n",
      "1 +1 +1 -1 +1 +1 +1 +1 -1 -1 -1 +1 -1 -12.541803       1       0\n",
      "2 +1 +1 -1 +1 +1 +1 +1 -1 -1 -1 +1 -1 -12.541803       1       0\n",
      "3 +1 +1 -1 +1 +1 +1 +1 -1 -1 -1 +1 -1 -12.541803       1       0\n",
      "['SPIN', 4 rows, 4 samples, 12 variables]\n",
      "Beta_range 55 to 54, more localized search\n",
      "   0  1  2  3  4  5  6  7  8  9 10 11     energy num_oc. penalt.\n",
      "3 +1 +1 -1 -1 +1 +1 +1 -1 -1 -1 +1 +1 -10.478512       1       0\n",
      "1 +1 +1 -1 +1 +1 -1 +1 -1 -1 -1 +1 -1   -9.95032       1       0\n",
      "0 -1 +1 -1 +1 +1 +1 +1 -1 -1 -1 +1 +1  -9.539537       1       0\n",
      "2 +1 +1 +1 -1 +1 +1 +1 -1 -1 -1 -1 -1  -5.881349       1       0\n",
      "['SPIN', 4 rows, 4 samples, 12 variables]\n"
     ]
    }
   ],
   "source": [
    "np.random.seed(43)\n",
    "hrand = {}\n",
    "Jrand = {}\n",
    "init_st = {}\n",
    "maxvar = 12\n",
    "for i in range(0,maxvar):\n",
    "    if np.random.random() > .5:\n",
    "        init_st[i] =  1\n",
    "    else:\n",
    "        init_st[i] = -1\n",
    "for i in range(0,maxvar):\n",
    "    hrand[i] =  (1 + 1) * np.random.random() - 1\n",
    "for i in range(0,maxvar):\n",
    "    for j in range(i+1,maxvar):\n",
    "        if np.random.random() > .95:\n",
    "            Jrand[(i,j)] = (1 + 1) * np.random.random() - 1\n",
    "        for k in range(j+1,maxvar):\n",
    "            if np.random.random() > .95:\n",
    "                Jrand[(i,j,k)] = (1 + 1) * np.random.random() - 1\n",
    "\n",
    "#print(init_st)\n",
    "print(\"#####\")\n",
    "#print(Jrand)\n",
    "\n",
    "sampler_rand = dimod.HigherOrderComposite(neal.SimulatedAnnealingSampler())\n",
    "\n",
    "sampleset_rand = sampler_rand.sample_hising(hrand,Jrand,discard_unsatisfied=False, num_reads=4)\n",
    "print(\"Default beta_range\")\n",
    "print(sampleset_rand)\n",
    "#sampleset = sampler.sample_hising(hrand, Jrand, discard_unsatisfied=True, num_reads=4,initial_state={0:-1,1:-1,2:-1,3:-1},beta_range=[4.2, 4.2])\n",
    "print(\"Beta_range 55 to 54, more localized search\")\n",
    "sampleset_rand = sampler_rand.sample_hising(hrand,Jrand,discard_unsatisfied=False, num_reads=4,beta_range=[54, 55])\n",
    "print(sampleset_rand)"
   ]
  },
  {
   "cell_type": "code",
   "execution_count": null,
   "metadata": {},
   "outputs": [],
   "source": []
  },
  {
   "cell_type": "code",
   "execution_count": 55,
   "metadata": {},
   "outputs": [],
   "source": [
    "x = dimod.make_quadratic(l1,5.0, dimod.SPIN)"
   ]
  },
  {
   "cell_type": "code",
   "execution_count": 57,
   "metadata": {},
   "outputs": [],
   "source": [
    "s2 = dimod.ExactSolver()"
   ]
  },
  {
   "cell_type": "code",
   "execution_count": 58,
   "metadata": {},
   "outputs": [
    {
     "ename": "AttributeError",
     "evalue": "'ExactSolver' object has no attribute 'sample_hising'",
     "output_type": "error",
     "traceback": [
      "\u001b[0;31m---------------------------------------------------------------------------\u001b[0m",
      "\u001b[0;31mAttributeError\u001b[0m                            Traceback (most recent call last)",
      "\u001b[0;32m<ipython-input-58-bf27fcc23c2b>\u001b[0m in \u001b[0;36m<module>\u001b[0;34m\u001b[0m\n\u001b[0;32m----> 1\u001b[0;31m \u001b[0ms2\u001b[0m\u001b[0;34m.\u001b[0m\u001b[0msample_hising\u001b[0m\u001b[0;34m(\u001b[0m\u001b[0mx\u001b[0m\u001b[0;34m)\u001b[0m\u001b[0;34m\u001b[0m\u001b[0;34m\u001b[0m\u001b[0m\n\u001b[0m",
      "\u001b[0;31mAttributeError\u001b[0m: 'ExactSolver' object has no attribute 'sample_hising'"
     ]
    }
   ],
   "source": [
    "s2.sample_hising(x)"
   ]
  },
  {
   "cell_type": "code",
   "execution_count": 38,
   "metadata": {},
   "outputs": [
    {
     "name": "stdout",
     "output_type": "stream",
     "text": [
      "BinaryQuadraticModel({0: 0.15542669077992818, 1: -2.3937709550914392, 2: 0.16326768673564326, 3: -2.5, 1*3: -2.5, aux1,3: -5.0}, {(0, 1): 0.15660062488237944, (0, 2): 0.1062290449085607, (0, 3): -0.04919764587136754, (0, '1*3'): 0.04919764587136754, (1, 2): 0.15542669077992818, (1, 3): 2.5, (1, '1*3'): 2.5, (1, 'aux1,3'): 5.0, (2, 3): 0.04919764587136754, (2, '1*3'): -0.04919764587136754, (3, '1*3'): 2.5, (3, 'aux1,3'): 5.0, ('1*3', 'aux1,3'): 5.0}, 10.0, 'SPIN')\n"
     ]
    }
   ],
   "source": [
    "print(x)"
   ]
  },
  {
   "cell_type": "code",
   "execution_count": 45,
   "metadata": {},
   "outputs": [
    {
     "data": {
      "text/plain": [
       "{0: 0.15542669077992818, 1: -2.3937709550914392, 2: 0.16326768673564326, 3: -2.5, 1*3: -2.5, aux1,3: -5.0}"
      ]
     },
     "execution_count": 45,
     "metadata": {},
     "output_type": "execute_result"
    }
   ],
   "source": [
    "x.linear"
   ]
  },
  {
   "cell_type": "code",
   "execution_count": 46,
   "metadata": {},
   "outputs": [
    {
     "data": {
      "text/plain": [
       "{(0, 1): 0.15660062488237944, (0, 2): 0.1062290449085607, (0, 3): -0.04919764587136754, (0, '1*3'): 0.04919764587136754, (1, 2): 0.15542669077992818, (1, 3): 2.5, (1, '1*3'): 2.5, (1, 'aux1,3'): 5.0, (2, 3): 0.04919764587136754, (2, '1*3'): -0.04919764587136754, (3, '1*3'): 2.5, (3, 'aux1,3'): 5.0, ('1*3', 'aux1,3'): 5.0}"
      ]
     },
     "execution_count": 46,
     "metadata": {},
     "output_type": "execute_result"
    }
   ],
   "source": [
    "x.quadratic"
   ]
  },
  {
   "cell_type": "code",
   "execution_count": 49,
   "metadata": {},
   "outputs": [],
   "source": [
    "response = sampler.sample_ising(x.linear, x.quadratic)"
   ]
  },
  {
   "cell_type": "code",
   "execution_count": 50,
   "metadata": {},
   "outputs": [
    {
     "data": {
      "text/plain": [
       "SampleSet(rec.array([([-1, -1,  1, -1,  1,  1], -10.40023374, 1)],\n",
       "          dtype=[('sample', 'i1', (6,)), ('energy', '<f8'), ('num_occurrences', '<i8')]), [0, 1, 2, 3, '1*3', 'aux1,3'], {'beta_range': [0.03465735902799726, 93.60549888969886], 'beta_schedule_type': 'geometric'}, 'SPIN')"
      ]
     },
     "execution_count": 50,
     "metadata": {},
     "output_type": "execute_result"
    }
   ],
   "source": [
    "response"
   ]
  },
  {
   "cell_type": "code",
   "execution_count": 51,
   "metadata": {},
   "outputs": [],
   "source": [
    "ampleset = dimod.ExactSolver().sample_ising(x.linear, x.quadratic)"
   ]
  },
  {
   "cell_type": "code",
   "execution_count": 52,
   "metadata": {},
   "outputs": [
    {
     "name": "stdout",
     "output_type": "stream",
     "text": [
      "    0  1  2  3 1*3 aux1,3    energy num_oc.\n",
      "49 +1 -1 -1 +1  -1     +1 -10.418264       1\n",
      "60 -1 +1 -1 -1  -1     +1 -10.418264       1\n",
      "19 -1 +1 -1 +1  +1     -1 -10.418264       1\n",
      "39 -1 -1 +1 -1  +1     +1 -10.400234       1\n",
      "33 +1 -1 -1 -1  +1     +1 -10.024682       1\n",
      "18 +1 +1 -1 +1  +1     -1 -10.006667       1\n",
      "32 -1 -1 -1 -1  +1     +1 -10.006667       1\n",
      "48 -1 -1 -1 +1  -1     +1 -10.006667       1\n",
      "61 +1 +1 -1 -1  -1     +1 -10.006667       1\n",
      "55 -1 -1 +1 +1  -1     +1 -10.006653       1\n",
      "20 -1 +1 +1 +1  +1     -1 -9.993333       1\n",
      "38 +1 -1 +1 -1  +1     +1 -9.993333       1\n",
      "54 +1 -1 +1 +1  -1     +1 -9.993333       1\n",
      "59 -1 +1 +1 -1  -1     +1 -9.993333       1\n",
      "21 +1 +1 +1 +1  +1     -1  -9.15682       1\n",
      "58 +1 +1 +1 -1  -1     +1  -9.15682       1\n",
      "28 -1 +1 -1 -1  +1     -1 -5.418264       1\n",
      "35 -1 +1 -1 -1  +1     +1 -5.418264       1\n",
      "12 -1 +1 -1 +1  -1     -1 -5.418264       1\n",
      "51 -1 +1 -1 +1  -1     +1 -5.418264       1\n",
      "46 +1 -1 -1 +1  +1     +1 -5.221473       1\n",
      "62 +1 -1 -1 -1  -1     +1 -5.221473       1\n",
      "17 +1 -1 -1 +1  +1     -1 -5.221473       1\n",
      "13 +1 +1 -1 +1  -1     -1 -5.203458       1\n",
      "50 +1 +1 -1 +1  -1     +1 -5.203458       1\n",
      "56 -1 -1 +1 -1  -1     +1 -5.203443       1\n",
      "23 -1 -1 +1 +1  +1     -1 -5.203443       1\n",
      "40 -1 -1 +1 +1  +1     +1 -5.203443       1\n",
      "36 -1 +1 +1 -1  +1     +1 -5.190124       1\n",
      "27 -1 +1 +1 -1  +1     -1 -5.190124       1\n",
      "16 -1 -1 -1 +1  +1     -1 -5.006667       1\n",
      "63 -1 -1 -1 -1  -1     +1 -5.006667       1\n",
      "47 -1 -1 -1 +1  +1     +1 -5.006667       1\n",
      "57 +1 -1 +1 -1  -1     +1 -4.993333       1\n",
      "22 +1 -1 +1 +1  +1     -1 -4.993333       1\n",
      "41 +1 -1 +1 +1  +1     +1 -4.993333       1\n",
      "34 +1 +1 -1 -1  +1     +1 -4.809876       1\n",
      "29 +1 +1 -1 -1  +1     -1 -4.809876       1\n",
      "11 -1 +1 +1 +1  -1     -1 -4.796542       1\n",
      "52 -1 +1 +1 +1  -1     +1 -4.796542       1\n",
      "26 +1 +1 +1 -1  +1     -1  -4.15682       1\n",
      "37 +1 +1 +1 -1  +1     +1  -4.15682       1\n",
      "53 +1 +1 +1 +1  -1     +1  -4.15682       1\n",
      "10 +1 +1 +1 +1  -1     -1  -4.15682       1\n",
      "3  -1 +1 -1 -1  -1     -1  9.581736       1\n",
      "14 +1 -1 -1 +1  -1     -1  9.581736       1\n",
      "44 -1 +1 -1 +1  +1     +1  9.581736       1\n",
      "24 -1 -1 +1 -1  +1     -1  9.599766       1\n",
      "30 +1 -1 -1 -1  +1     -1  9.975318       1\n",
      "2  +1 +1 -1 -1  -1     -1  9.993333       1\n",
      "15 -1 -1 -1 +1  -1     -1  9.993333       1\n",
      "31 -1 -1 -1 -1  +1     -1  9.993333       1\n",
      "45 +1 +1 -1 +1  +1     +1  9.993333       1\n",
      "8  -1 -1 +1 +1  -1     -1  9.993347       1\n",
      "4  -1 +1 +1 -1  -1     -1 10.006667       1\n",
      "9  +1 -1 +1 +1  -1     -1 10.006667       1\n",
      "25 +1 -1 +1 -1  +1     -1 10.006667       1\n",
      "43 -1 +1 +1 +1  +1     +1 10.006667       1\n",
      "5  +1 +1 +1 -1  -1     -1  10.84318       1\n",
      "42 +1 +1 +1 +1  +1     +1  10.84318       1\n",
      "1  +1 -1 -1 -1  -1     -1 34.778527       1\n",
      "7  -1 -1 +1 -1  -1     -1 34.796557       1\n",
      "0  -1 -1 -1 -1  -1     -1 34.993333       1\n",
      "6  +1 -1 +1 -1  -1     -1 35.006667       1\n",
      "['SPIN', 64 rows, 64 samples, 6 variables]\n"
     ]
    }
   ],
   "source": [
    "print(ampleset)"
   ]
  },
  {
   "cell_type": "code",
   "execution_count": null,
   "metadata": {},
   "outputs": [],
   "source": []
  }
 ],
 "metadata": {
  "kernelspec": {
   "display_name": "newtq37",
   "language": "python",
   "name": "newtq37"
  },
  "language_info": {
   "codemirror_mode": {
    "name": "ipython",
    "version": 3
   },
   "file_extension": ".py",
   "mimetype": "text/x-python",
   "name": "python",
   "nbconvert_exporter": "python",
   "pygments_lexer": "ipython3",
   "version": "3.7.1"
  }
 },
 "nbformat": 4,
 "nbformat_minor": 4
}
