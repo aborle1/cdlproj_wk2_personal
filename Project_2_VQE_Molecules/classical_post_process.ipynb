{
 "cells": [
  {
   "cell_type": "code",
   "execution_count": 1,
   "metadata": {},
   "outputs": [
    {
     "name": "stdout",
     "output_type": "stream",
     "text": [
      "The total energy is:  -0.7278419329192338\n"
     ]
    }
   ],
   "source": [
    "#(Requires D-wave's Ocean SDK)\n",
    "import neal\n",
    "import dimod\n",
    "import numpy as np\n",
    "sampler = dimod.HigherOrderComposite(neal.SimulatedAnnealingSampler())\n",
    "\n",
    "#The Ising cost function in h J of the allZ Hamiltonian from S4 (of the qwc fragment) \n",
    "h = {0:0.15542669077992818, 1: 0.1062290449085607, 2: 0.16326768673564326 }\n",
    "J = {(0,1):0.15660062488237944, (0,2): 0.1062290449085607, (0,3): -0.04919764587136754,\n",
    "    (1,2):0.15542669077992818, (2,3):0.04919764587136754,\n",
    "    (0,1,3):0.04919764587136754, (1,2,3):-0.04919764587136754}\n",
    "\n",
    "offset = -0.3276081896748086 #for the hamiltonian term that didn't have any operators associated with it\n",
    "\n",
    "sampleset = sampler.sample_hising(h, J, discard_unsatisfied=True)\n",
    "sample_energy = sampleset.record[0][1]\n",
    "total_energy = sample_energy  + offset\n",
    "print(\"The total energy is: \",total_energy)\n"
   ]
  },
  {
   "cell_type": "code",
   "execution_count": 3,
   "metadata": {},
   "outputs": [
    {
     "name": "stdout",
     "output_type": "stream",
     "text": [
      "Just add the offset value\n",
      "    0  1  2  3  energy num_oc. penalt.\n",
      "6  +1 -1 -1 +1 -0.418264       1    True\n",
      "25 +1 -1 -1 +1 -0.418264       1    True\n",
      "1  -1 +1 -1 -1 -0.418264       1    True\n",
      "9  -1 +1 -1 +1 -0.418264       1    True\n",
      "22 -1 +1 -1 +1 -0.418264       1    True\n",
      "30 -1 +1 -1 -1 -0.418264       1    True\n",
      "12 -1 -1 +1 -1 -0.400234       1    True\n",
      "19 -1 -1 +1 -1 -0.400234       1    True\n",
      "14 +1 -1 -1 -1 -0.024682       1    True\n",
      "17 +1 -1 -1 -1 -0.024682       1    True\n",
      "8  +1 +1 -1 +1 -0.006667       1    True\n",
      "23 +1 +1 -1 +1 -0.006667       1    True\n",
      "15 -1 -1 -1 -1 -0.006667       1    True\n",
      "16 -1 -1 -1 -1 -0.006667       1    True\n",
      "7  -1 -1 -1 +1 -0.006667       1    True\n",
      "24 -1 -1 -1 +1 -0.006667       1    True\n",
      "0  +1 +1 -1 -1 -0.006667       1    True\n",
      "31 +1 +1 -1 -1 -0.006667       1    True\n",
      "4  -1 -1 +1 +1 -0.006653       1    True\n",
      "27 -1 -1 +1 +1 -0.006653       1    True\n",
      "2  -1 +1 +1 -1 0.006667       1    True\n",
      "29 -1 +1 +1 -1 0.006667       1    True\n",
      "5  +1 -1 +1 +1 0.006667       1    True\n",
      "26 +1 -1 +1 +1 0.006667       1    True\n",
      "13 +1 -1 +1 -1 0.006667       1    True\n",
      "18 +1 -1 +1 -1 0.006667       1    True\n",
      "10 -1 +1 +1 +1 0.006667       1    True\n",
      "21 -1 +1 +1 +1 0.006667       1    True\n",
      "3  +1 +1 +1 -1 0.84318       1    True\n",
      "11 +1 +1 +1 +1 0.84318       1    True\n",
      "20 +1 +1 +1 +1 0.84318       1    True\n",
      "28 +1 +1 +1 -1 0.84318       1    True\n",
      "['SPIN', 32 rows, 32 samples, 4 variables]\n"
     ]
    }
   ],
   "source": [
    "#Lets try that on an exact solver\n",
    "sampler = dimod.HigherOrderComposite(dimod.ExactSolver())\n",
    "sampleset = sampler.sample_hising(h, J, discard_unsatisfied=True)\n",
    "print(\"Just add the offset value\")\n",
    "print(sampleset)\n"
   ]
  },
  {
   "cell_type": "code",
   "execution_count": 7,
   "metadata": {},
   "outputs": [
    {
     "name": "stdout",
     "output_type": "stream",
     "text": [
      "#####\n",
      "Default beta_range\n",
      "   0  1  2  3  4  5  6  7  8  9 10 11     energy num_oc. penalt.\n",
      "0 +1 +1 -1 +1 +1 +1 +1 -1 -1 -1 +1 -1 -12.541803       1       0\n",
      "1 +1 +1 -1 +1 +1 +1 +1 -1 -1 -1 +1 -1 -12.541803       1       0\n",
      "2 +1 +1 -1 +1 +1 +1 +1 -1 -1 -1 +1 -1 -12.541803       1       0\n",
      "3 +1 +1 -1 +1 +1 -1 +1 -1 -1 -1 +1 -1   -9.95032       1       0\n",
      "['SPIN', 4 rows, 4 samples, 12 variables]\n",
      "Beta_range 54 to 55, more localized search\n",
      "   0  1  2  3  4  5  6  7  8  9 10 11   energy num_oc. penalt.\n",
      "1 +1 +1 -1 +1 +1 -1 +1 -1 -1 -1 +1 -1 -9.95032       1       0\n",
      "3 +1 +1 -1 +1 +1 -1 +1 -1 -1 -1 +1 -1 -9.95032       1       0\n",
      "2 -1 +1 -1 +1 +1 +1 +1 -1 -1 -1 +1 +1 -9.539537       1       0\n",
      "0 +1 +1 -1 +1 +1 -1 +1 -1 -1 -1 +1 +1 -6.03596       1       0\n",
      "['SPIN', 4 rows, 4 samples, 12 variables]\n"
     ]
    }
   ],
   "source": [
    "#Now take a 12 variable random problem to see the effects of beta range\n",
    "np.random.seed(43)\n",
    "hrand = {}\n",
    "Jrand = {}\n",
    "init_st = {}\n",
    "maxvar = 12\n",
    "for i in range(0,maxvar):\n",
    "    if np.random.random() > .5:\n",
    "        init_st[i] =  1\n",
    "    else:\n",
    "        init_st[i] = -1\n",
    "for i in range(0,maxvar):\n",
    "    hrand[i] =  (1 + 1) * np.random.random() - 1\n",
    "for i in range(0,maxvar):\n",
    "    for j in range(i+1,maxvar):\n",
    "        if np.random.random() > .95:\n",
    "            Jrand[(i,j)] = (1 + 1) * np.random.random() - 1\n",
    "        for k in range(j+1,maxvar):\n",
    "            if np.random.random() > .95:\n",
    "                Jrand[(i,j,k)] = (1 + 1) * np.random.random() - 1\n",
    "\n",
    "#print(init_st)\n",
    "print(\"#####\")\n",
    "#print(Jrand)\n",
    "\n",
    "sampler_rand = dimod.HigherOrderComposite(neal.SimulatedAnnealingSampler())\n",
    "\n",
    "sampleset_rand = sampler_rand.sample_hising(hrand,Jrand,discard_unsatisfied=False, num_reads=4)\n",
    "print(\"Default beta_range\")\n",
    "print(sampleset_rand)\n",
    "#sampleset = sampler.sample_hising(hrand, Jrand, discard_unsatisfied=True, num_reads=4,initial_state={0:-1,1:-1,2:-1,3:-1},beta_range=[4.2, 4.2])\n",
    "print(\"Beta_range 54 to 55, more localized search\")\n",
    "sampleset_rand = sampler_rand.sample_hising(hrand,Jrand,discard_unsatisfied=False, num_reads=4,beta_range=[54, 55])\n",
    "print(sampleset_rand)"
   ]
  },
  {
   "cell_type": "code",
   "execution_count": null,
   "metadata": {},
   "outputs": [],
   "source": []
  }
 ],
 "metadata": {
  "kernelspec": {
   "display_name": "newtq37",
   "language": "python",
   "name": "newtq37"
  },
  "language_info": {
   "codemirror_mode": {
    "name": "ipython",
    "version": 3
   },
   "file_extension": ".py",
   "mimetype": "text/x-python",
   "name": "python",
   "nbconvert_exporter": "python",
   "pygments_lexer": "ipython3",
   "version": "3.7.1"
  }
 },
 "nbformat": 4,
 "nbformat_minor": 4
}
