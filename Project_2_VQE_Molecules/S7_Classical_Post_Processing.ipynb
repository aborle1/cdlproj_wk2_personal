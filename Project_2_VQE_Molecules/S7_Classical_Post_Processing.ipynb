{
 "cells": [
  {
   "cell_type": "markdown",
   "metadata": {},
   "source": [
    "# Future Extension : Improve VQE results by classical post-processing\n",
    "\n",
    "This is an idea which is inspired from this [paper](https://arxiv.org/pdf/1801.04849.pdf). The thesis is that if VQE (for any hamiltonian fragment) is producing noisy results, it should hopefully be in the neighborhood of the sample we obtained (in z basis).  \n",
    "\n",
    "Thus, if we can use a technique like Simulated Annealing, give it the samples from VQE and a small initial temperature. It will search the locality of the initial temperature and try to get us a sample and a lower energy (eigenvalue) or just a smaller optimization cutoff (in terms of time).\n",
    "\n",
    "The eventual goal is not to replace VQE with SA, but to complement it by plugging in results from VQE into SA to try to get a better value. "
   ]
  },
  {
   "cell_type": "code",
   "execution_count": 125,
   "metadata": {},
   "outputs": [
    {
     "name": "stdout",
     "output_type": "stream",
     "text": [
      "Our initial state (its 1 bit off from the actuall answer: {0: -1, 1: -1, 2: -1, 3: 1}\n",
      "Our initial state energy: -0.006667061853263816\n"
     ]
    }
   ],
   "source": [
    "#(Requires D-wave's Ocean SDK)\n",
    "from  additional_dwave import *\n",
    "\n",
    "#The Ising cost function in h J of the allZ Hamiltonian from S4 (of the qwc fragment) \n",
    "h = {0:0.15542669077992818, 1: 0.1062290449085607, 2: 0.16326768673564326 }\n",
    "J = {(0,1):0.15660062488237944, (0,2): 0.1062290449085607, (0,3): -0.04919764587136754,\n",
    "    (1,2):0.15542669077992818, (2,3):0.04919764587136754,\n",
    "    (0,1,3):0.04919764587136754, (1,2,3):-0.04919764587136754}\n",
    "offset = -0.3276081896748086 #for the hamiltonian term that didn't have any operators associated with it\n",
    "\n",
    "#Make a 'poly' dictionary that is acceptable for the next function\n",
    "poly = {}\n",
    "for key in h:\n",
    "    poly[(key,)] = h[key]\n",
    "for key in J:\n",
    "    poly[key] = J[key]\n",
    "\n",
    "#This is the unoptimized initial value\n",
    "init_state = {0:-1,1:-1,2:-1,3:1}\n",
    "print(\"Our initial state (its 1 bit off from the actuall answer:\", init_state)\n",
    "print(\"Our initial state energy:\",float(poly_energies(init_state,poly)))"
   ]
  },
  {
   "cell_type": "markdown",
   "metadata": {},
   "source": [
    "Now the first step is to reduce the higher order polynomial to a binary quadratic problem"
   ]
  },
  {
   "cell_type": "code",
   "execution_count": 111,
   "metadata": {},
   "outputs": [],
   "source": [
    "\n",
    "bqm = make_quadratic(poly, 1.0, vartype=dimod.SPIN)\n",
    "#Make your init_state compatible with the quadratic expanded model\n",
    "init_state_quad = expand_initial_state(bqm, init_state)"
   ]
  },
  {
   "cell_type": "markdown",
   "metadata": {},
   "source": [
    "A little bit of pre-processing here"
   ]
  },
  {
   "cell_type": "code",
   "execution_count": 112,
   "metadata": {},
   "outputs": [],
   "source": [
    "#Unfortunately, in order to supply an initial state, the SA sampler doesn't take string keys, so we do the following dance\n",
    "bqm_lin = {}\n",
    "bqm_quad = {}\n",
    "int2str_dict = {}\n",
    "var_name_ctr = 4 #instead of string names, we'll assign these, (or else we run into issues later on)\n",
    "\n",
    "for key in bqm.linear:\n",
    "    \n",
    "    if isinstance(key, int):\n",
    "        bqm_lin[key] = bqm.linear[key]\n",
    "    else:\n",
    "        bqm_lin[var_name_ctr] = bqm.linear[key]\n",
    "        int2str_dict[key] = var_name_ctr\n",
    "        var_name_ctr += 1\n",
    "\n",
    "key0 = None\n",
    "key1 = None\n",
    "for key in bqm.quadratic:\n",
    "    if isinstance(key[0], int):\n",
    "        key0 = key[0]\n",
    "    else:\n",
    "        key0 = int2str_dict[key[0]]\n",
    "    \n",
    "    if isinstance(key[1], int):\n",
    "        key1 = key[1]\n",
    "    else:\n",
    "        key1 = int2str_dict[key[1]]\n",
    "    \n",
    "    bqm_quad[(key0,key1)] = bqm.quadratic[key]\n",
    "\n",
    "#use the list form to store the initial state\n",
    "init_list = []\n",
    "for key in init_state_quad: #lets 'read' a sample out of the dict the same way it presents its variables\n",
    "    init_list.append(init_state_quad[key])"
   ]
  },
  {
   "cell_type": "markdown",
   "metadata": {},
   "source": [
    "Get the default beta (inverse temperature) range"
   ]
  },
  {
   "cell_type": "code",
   "execution_count": 113,
   "metadata": {},
   "outputs": [
    {
     "name": "stdout",
     "output_type": "stream",
     "text": [
      "Start beta:  0.17328679513998632\n",
      "Stop beta:  93.60549888969886\n"
     ]
    }
   ],
   "source": [
    "b1,b2 = default_ising_beta_range(bqm_lin, bqm_quad)\n",
    "print(\"Start beta: \",b1)\n",
    "print(\"Stop beta: \",b2)"
   ]
  },
  {
   "cell_type": "markdown",
   "metadata": {},
   "source": [
    "Let's start with the default SA process"
   ]
  },
  {
   "cell_type": "code",
   "execution_count": 117,
   "metadata": {},
   "outputs": [
    {
     "name": "stdout",
     "output_type": "stream",
     "text": [
      "########\n",
      "For default settings\n",
      "[-1  1 -1  1]\n",
      "-0.41826360336075774\n",
      "[-1 -1  1 -1]\n",
      "-0.40023374324442523\n",
      "[-1  1 -1 -1]\n",
      "-0.41826360336075774\n",
      "[-1 -1  1 -1]\n",
      "-0.40023374324442523\n",
      "Best energy (eigenvalue):  -0.7458717930355663\n"
     ]
    }
   ],
   "source": [
    "newsampler = neal.SimulatedAnnealingSampler()\n",
    "\n",
    "#default settings\n",
    "response = newsampler.sample_ising(bqm.linear,bqm.quadratic,num_reads=4,seed=4,num_sweep=2)\n",
    "print(\"########\")\n",
    "print(\"For default settings\")\n",
    "for i in range(0,len(response.record)):\n",
    "    answer_sample = response.record[i][0][0:4]\n",
    "    print(answer_sample)\n",
    "    print(float(poly_energies(answer_sample,poly)))\n",
    "print(\"Best energy (eigenvalue): \",-0.41826360336075774+offset)\n"
   ]
  },
  {
   "cell_type": "markdown",
   "metadata": {},
   "source": [
    "This is the smallest eigenvalue of the allz qwc fragment in S4 for H<sub>2</sub>\n",
    "\n",
    "Let's try a localized search : smaller number of steps and our initial state"
   ]
  },
  {
   "cell_type": "code",
   "execution_count": 118,
   "metadata": {},
   "outputs": [
    {
     "name": "stdout",
     "output_type": "stream",
     "text": [
      "########\n",
      "For default settings\n",
      "[-1  1 -1  1]\n",
      "-0.41826360336075774\n",
      "[-1  1 -1  1]\n",
      "-0.41826360336075774\n",
      "[-1 -1  1 -1]\n",
      "-0.40023374324442523\n",
      "[-1  1 -1  1]\n",
      "-0.41826360336075774\n",
      "Best energy (eigenvalue):  -0.7458717930355663\n"
     ]
    }
   ],
   "source": [
    "newsampler = neal.SimulatedAnnealingSampler()\n",
    "\n",
    "#default settings\n",
    "response = newsampler.sample_ising(bqm.linear,bqm.quadratic,num_reads=4,seed=4,beta_range=(100,100.1),num_sweeps=2,init_state=init_list)\n",
    "print(\"########\")\n",
    "print(\"For default settings\")\n",
    "for i in range(0,len(response.record)):\n",
    "    answer_sample = response.record[i][0][0:4]\n",
    "    print(answer_sample)\n",
    "    print(float(poly_energies(answer_sample,poly)))\n",
    "print(\"Best energy (eigenvalue): \",-0.41826360336075774+offset)"
   ]
  },
  {
   "cell_type": "markdown",
   "metadata": {},
   "source": [
    "Now, obviously, number of steps = 2 is ridiculous (but our problem size here is very small). The general idea is that we want a speedier SA which can help improve results as well.\n",
    "\n",
    "We hope that this idea can be expanded upon/tested further in the future."
   ]
  },
  {
   "cell_type": "code",
   "execution_count": null,
   "metadata": {},
   "outputs": [],
   "source": []
  }
 ],
 "metadata": {
  "kernelspec": {
   "display_name": "newtq37",
   "language": "python",
   "name": "newtq37"
  },
  "language_info": {
   "codemirror_mode": {
    "name": "ipython",
    "version": 3
   },
   "file_extension": ".py",
   "mimetype": "text/x-python",
   "name": "python",
   "nbconvert_exporter": "python",
   "pygments_lexer": "ipython3",
   "version": "3.7.1"
  }
 },
 "nbformat": 4,
 "nbformat_minor": 4
}
